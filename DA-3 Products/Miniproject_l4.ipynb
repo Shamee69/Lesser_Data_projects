{
 "cells": [
  {
   "cell_type": "code",
   "execution_count": 239,
   "id": "aeef3320",
   "metadata": {},
   "outputs": [
    {
     "data": {
      "text/plain": [
       "' \\nНа этот раз данные имеют следующую структуру:\\n\\nзаписываются для каждого пользователя, совершившего покупки, каждый день\\nдля каждой даты есть своя папка, внутри неё – папки для каждого пользователя\\nвнутри каждой папки есть файл data.csv, где и хранятся данные\\nСхематично выглядит так:\\n\\n└── data\\n   ├── 2020-12-30\\n   │  ├── FirstName_LastName1\\n   │  │   └── data.csv\\n   │  ├── FirstName_LastName2\\n   │  │   └── data.csv\\n   │  └── FirstName_LastName3\\n   │      └── data.csv\\n   └── 2020-12-31\\n      ├── FirstName_LastName1\\n      │   └── data.csv\\n      └── FirstName_LastName5\\n          └── data.csv\\n\\n\\n---------------------------------------------------------------------------------------------\\n\\nНапример, \\n30 декабря три покупателя сделали покупки, \\n31 – два (папки 2020-12-30 и 2020-12-31 соответственно). \\nПоскольку клиент FirstName_LastName1 купил товары в оба дня, для него имеется папка в папке для каждой из дат. \\nДля других клиентов – по одной.\\n\\nNote: данные в задании покрывают другой временной период, имена тоже другие. \\nПодробности, примеры и возможные подсказки можно найти в текстах следующих шагов.\\n\\n\\n---------------------------------------------------------------------------------------------\\n\\nЗадачи\\n1 . \\nСоберите все данные из папки data в один датафрэйм, имеющий следующие столбцы: \\nколонки из самих файлов (product_id, quantity), а также имя пользователя (name), и дата этих покупок (date), \\nсоответствует названию папки, где лежит папка с пользователем)\\n\\n2.\\nВыясните, какой пользователь купил больше всего товаров. \\nЕсли их несколько, то перечислите имена через запятую с пробелом и в алфавитном порядке.\\n\\n3. \\nНайдите топ-10 товаров по числу проданных единиц за всё время и постройте барплот. \\nСколько было продано единиц товара с product_id==56?\\n\\n4.\\nВизуализируйте продажи по дням.\\n\\n5. \\nСколько пользователей приобрели какой-либо товар повторно (более 1 раза)? \\nПовтором будем считать покупку товара с одинаковым product_id, совершенную в разные дни.\\n'"
      ]
     },
     "execution_count": 239,
     "metadata": {},
     "output_type": "execute_result"
    }
   ],
   "source": [
    "\"\"\" \n",
    "На этот раз данные имеют следующую структуру:\n",
    "\n",
    "записываются для каждого пользователя, совершившего покупки, каждый день\n",
    "для каждой даты есть своя папка, внутри неё – папки для каждого пользователя\n",
    "внутри каждой папки есть файл data.csv, где и хранятся данные\n",
    "Схематично выглядит так:\n",
    "\n",
    "└── data\n",
    "   ├── 2020-12-30\n",
    "   │  ├── FirstName_LastName1\n",
    "   │  │   └── data.csv\n",
    "   │  ├── FirstName_LastName2\n",
    "   │  │   └── data.csv\n",
    "   │  └── FirstName_LastName3\n",
    "   │      └── data.csv\n",
    "   └── 2020-12-31\n",
    "      ├── FirstName_LastName1\n",
    "      │   └── data.csv\n",
    "      └── FirstName_LastName5\n",
    "          └── data.csv\n",
    "\n",
    "\n",
    "---------------------------------------------------------------------------------------------\n",
    "\n",
    "Например, \n",
    "30 декабря три покупателя сделали покупки, \n",
    "31 – два (папки 2020-12-30 и 2020-12-31 соответственно). \n",
    "Поскольку клиент FirstName_LastName1 купил товары в оба дня, для него имеется папка в папке для каждой из дат. \n",
    "Для других клиентов – по одной.\n",
    "\n",
    "Note: данные в задании покрывают другой временной период, имена тоже другие. \n",
    "Подробности, примеры и возможные подсказки можно найти в текстах следующих шагов.\n",
    "\n",
    "\n",
    "---------------------------------------------------------------------------------------------\n",
    "\n",
    "Задачи\n",
    "1 . \n",
    "Соберите все данные из папки data в один датафрэйм, имеющий следующие столбцы: \n",
    "колонки из самих файлов (product_id, quantity), а также имя пользователя (name), и дата этих покупок (date), \n",
    "соответствует названию папки, где лежит папка с пользователем)\n",
    "\n",
    "2.\n",
    "Выясните, какой пользователь купил больше всего товаров. \n",
    "Если их несколько, то перечислите имена через запятую с пробелом и в алфавитном порядке.\n",
    "\n",
    "3. \n",
    "Найдите топ-10 товаров по числу проданных единиц за всё время и постройте барплот. \n",
    "Сколько было продано единиц товара с product_id==56?\n",
    "\n",
    "4.\n",
    "Визуализируйте продажи по дням.\n",
    "\n",
    "5. \n",
    "Сколько пользователей приобрели какой-либо товар повторно (более 1 раза)? \n",
    "Повтором будем считать покупку товара с одинаковым product_id, совершенную в разные дни.\n",
    "\"\"\""
   ]
  },
  {
   "cell_type": "code",
   "execution_count": 240,
   "id": "4a9dc568",
   "metadata": {},
   "outputs": [],
   "source": [
    "# Как обычно\n",
    "\n",
    "import pandas as pd\n",
    "import os\n",
    "import seaborn as sns\n",
    "import matplotlib.pyplot as plt\n"
   ]
  },
  {
   "cell_type": "code",
   "execution_count": 241,
   "id": "f05fa55d",
   "metadata": {},
   "outputs": [],
   "source": [
    "# Функция для чтения ЦСВ м добавление в датафрейм\n",
    "\n",
    "# На ввод: \n",
    "    # 1) путь до цсв, \n",
    "    # 2) name-название папки с именем в str; (смотри в цикле)\n",
    "    # 3) date-название папки с датой в str;  (смотри в цикле)\n",
    "    # 3) мастер_дф = общий пустой дф;        (смотри в цикле)\n",
    "\n",
    "def add_to_csv(csv_path, name, date, master_df):\n",
    "    \n",
    "    # Чтение данных из CSV-файла на вводе, индекс колонка задается первая(нулевая)\n",
    "    df = pd.read_csv(csv_path, index_col=0)\n",
    "    \n",
    "    # Добавление столбцов 'name' и 'date' \n",
    "    df['name'] = name\n",
    "    df['date'] = date\n",
    "    \n",
    "    # Добавление данных к общему датафрейму\n",
    "    master_df = pd.concat([master_df, df], ignore_index=True)\n",
    "    \n",
    "    return master_df"
   ]
  },
  {
   "cell_type": "code",
   "execution_count": 242,
   "id": "1c09f52d",
   "metadata": {},
   "outputs": [],
   "source": [
    "# Цикл перебирающий цсв файлы в директории\n",
    "\n",
    "# Инициализация общего датафрейма(дф)\n",
    "master_dataframe = pd.DataFrame()\n",
    "\n",
    "# Цикл перебирающий цсв файлы в заданной директории\n",
    "data_dir = 'C:/Users/tvoya/Desktop/Jupyter/Miniproject_l4/data/'\n",
    "\n",
    "for path, dirs, files in os.walk(data_dir):   # При вложенности папок и необходимости добраться до дна используем os.walk\n",
    "    \n",
    "    # На каждой итерации метод возвращает тройку из ПУТИ к нынешней папке, СПИСОК папок и САМ ФАЙЛ, хранящийся в этой папке.\n",
    "    # Но ПУТЬ до ФАЙЛА полностью не возвращается \n",
    "    # Поэтому будем делать стринг из склеивания ПУТИ, СПИСКА И ФАЙЛА\n",
    "    \n",
    "    if len(path.split('/' and '\\\\')) == 2:\n",
    "        # Путь до папки в стринг\n",
    "        folder_path = str('/'.join(path.split('/' and '\\\\')))\n",
    "        # Путь до файла в стринг\n",
    "        file_path = str(files).strip(\"[]'\")\n",
    "        # Полный путь до файла в стринг\n",
    "        full_path = folder_path + '/' + file_path\n",
    "        \n",
    "        # Вырезаем имя и время и пути для добавления колонов в дф\n",
    "        name = full_path.split('/')[-2]\n",
    "        date = full_path.split('/')[-3]\n",
    "        \n",
    "        # print(full_path)\n",
    "        # print(name, date)\n",
    "        \n",
    "        # Обновление общего датафрейма через функцию add_to_csv()\n",
    "        master_dataframe = add_to_csv(full_path, name, date, master_dataframe)\n"
   ]
  },
  {
   "cell_type": "code",
   "execution_count": 243,
   "id": "1f54322f",
   "metadata": {},
   "outputs": [
    {
     "data": {
      "text/html": [
       "<div>\n",
       "<style scoped>\n",
       "    .dataframe tbody tr th:only-of-type {\n",
       "        vertical-align: middle;\n",
       "    }\n",
       "\n",
       "    .dataframe tbody tr th {\n",
       "        vertical-align: top;\n",
       "    }\n",
       "\n",
       "    .dataframe thead th {\n",
       "        text-align: right;\n",
       "    }\n",
       "</style>\n",
       "<table border=\"1\" class=\"dataframe\">\n",
       "  <thead>\n",
       "    <tr style=\"text-align: right;\">\n",
       "      <th></th>\n",
       "      <th>product_id</th>\n",
       "      <th>quantity</th>\n",
       "      <th>name</th>\n",
       "      <th>date</th>\n",
       "    </tr>\n",
       "  </thead>\n",
       "  <tbody>\n",
       "    <tr>\n",
       "      <th>0</th>\n",
       "      <td>47</td>\n",
       "      <td>1</td>\n",
       "      <td>Alexey_Smirnov</td>\n",
       "      <td>2020-12-03</td>\n",
       "    </tr>\n",
       "    <tr>\n",
       "      <th>1</th>\n",
       "      <td>57</td>\n",
       "      <td>1</td>\n",
       "      <td>Alexey_Smirnov</td>\n",
       "      <td>2020-12-03</td>\n",
       "    </tr>\n",
       "    <tr>\n",
       "      <th>2</th>\n",
       "      <td>14</td>\n",
       "      <td>2</td>\n",
       "      <td>Alexey_Smirnov</td>\n",
       "      <td>2020-12-03</td>\n",
       "    </tr>\n",
       "    <tr>\n",
       "      <th>3</th>\n",
       "      <td>52</td>\n",
       "      <td>1</td>\n",
       "      <td>Alexey_Smirnov</td>\n",
       "      <td>2020-12-03</td>\n",
       "    </tr>\n",
       "    <tr>\n",
       "      <th>4</th>\n",
       "      <td>1</td>\n",
       "      <td>4</td>\n",
       "      <td>Alexey_Smirnov</td>\n",
       "      <td>2020-12-03</td>\n",
       "    </tr>\n",
       "    <tr>\n",
       "      <th>...</th>\n",
       "      <td>...</td>\n",
       "      <td>...</td>\n",
       "      <td>...</td>\n",
       "      <td>...</td>\n",
       "    </tr>\n",
       "    <tr>\n",
       "      <th>156</th>\n",
       "      <td>66</td>\n",
       "      <td>4</td>\n",
       "      <td>Rostislav_Petrov</td>\n",
       "      <td>2020-12-09</td>\n",
       "    </tr>\n",
       "    <tr>\n",
       "      <th>157</th>\n",
       "      <td>39</td>\n",
       "      <td>2</td>\n",
       "      <td>Rostislav_Petrov</td>\n",
       "      <td>2020-12-09</td>\n",
       "    </tr>\n",
       "    <tr>\n",
       "      <th>158</th>\n",
       "      <td>82</td>\n",
       "      <td>4</td>\n",
       "      <td>Vasiliy_Ivanov</td>\n",
       "      <td>2020-12-09</td>\n",
       "    </tr>\n",
       "    <tr>\n",
       "      <th>159</th>\n",
       "      <td>74</td>\n",
       "      <td>2</td>\n",
       "      <td>Vasiliy_Ivanov</td>\n",
       "      <td>2020-12-09</td>\n",
       "    </tr>\n",
       "    <tr>\n",
       "      <th>160</th>\n",
       "      <td>54</td>\n",
       "      <td>3</td>\n",
       "      <td>Vasiliy_Ivanov</td>\n",
       "      <td>2020-12-09</td>\n",
       "    </tr>\n",
       "  </tbody>\n",
       "</table>\n",
       "<p>161 rows × 4 columns</p>\n",
       "</div>"
      ],
      "text/plain": [
       "     product_id  quantity              name        date\n",
       "0            47         1    Alexey_Smirnov  2020-12-03\n",
       "1            57         1    Alexey_Smirnov  2020-12-03\n",
       "2            14         2    Alexey_Smirnov  2020-12-03\n",
       "3            52         1    Alexey_Smirnov  2020-12-03\n",
       "4             1         4    Alexey_Smirnov  2020-12-03\n",
       "..          ...       ...               ...         ...\n",
       "156          66         4  Rostislav_Petrov  2020-12-09\n",
       "157          39         2  Rostislav_Petrov  2020-12-09\n",
       "158          82         4    Vasiliy_Ivanov  2020-12-09\n",
       "159          74         2    Vasiliy_Ivanov  2020-12-09\n",
       "160          54         3    Vasiliy_Ivanov  2020-12-09\n",
       "\n",
       "[161 rows x 4 columns]"
      ]
     },
     "execution_count": 243,
     "metadata": {},
     "output_type": "execute_result"
    }
   ],
   "source": [
    "# Призывем дф\n",
    "\n",
    "master_dataframe"
   ]
  },
  {
   "cell_type": "code",
   "execution_count": 244,
   "id": "1b9b68da",
   "metadata": {},
   "outputs": [
    {
     "data": {
      "text/plain": [
       "480"
      ]
     },
     "execution_count": 244,
     "metadata": {},
     "output_type": "execute_result"
    }
   ],
   "source": [
    "# Сумма по колонке quantity\n",
    "master_dataframe.quantity.sum()"
   ]
  },
  {
   "cell_type": "code",
   "execution_count": 245,
   "id": "08f96474",
   "metadata": {},
   "outputs": [],
   "source": [
    "# Выясните, какой пользователь купил больше всего товаров. \n",
    "# Если их несколько, то перечислите имена через запятую с пробелом и в алфавитном порядке\n",
    "\n",
    "# ДВумя способомами, только первый еще продукт_ид возвращает\n",
    "quantity_by_name = master_dataframe.groupby('name').sum('quantity').sort_values('quantity', ascending=False)\n",
    "quantity_by_name_2 = master_dataframe.groupby('name').agg({'quantity' : 'sum'}).sort_values('quantity', ascending=False)\n"
   ]
  },
  {
   "cell_type": "code",
   "execution_count": 266,
   "id": "c23bc3f4",
   "metadata": {},
   "outputs": [
    {
     "data": {
      "text/plain": [
       "<Axes: xlabel='product_id', ylabel='quantity'>"
      ]
     },
     "execution_count": 266,
     "metadata": {},
     "output_type": "execute_result"
    },
    {
     "data": {
      "image/png": "[encoded data removed]",
      "text/plain": [
       "<Figure size 640x480 with 1 Axes>"
      ]
     },
     "metadata": {},
     "output_type": "display_data"
    }
   ],
   "source": [
    "''' Найдите топ-10 товаров по числу проданных единиц за всё время и постройте барплот (столбчатую диаграмму, sns.barplot),\n",
    "где:\n",
    "по оси x – идентификаторы товаров (product_id) \n",
    "по оси y – суммарное число их покупок (сколько товаров с таким product_id было продано)\n",
    "Для практики попробуйте изменить параметры графика: цвет (color), прозрачность (alpha), сортировку значений по оси х (order).'''\n",
    "\n",
    "top_product = master_dataframe.groupby('product_id', as_index=False).sum('quantity').sort_values('quantity', ascending=False).head(10)\n",
    "\n",
    "ax = sns.barplot(x=top_product['product_id'], y=top_product['quantity'])\n",
    "# Добавить подписи к барам\n",
    "ax.bar_label(ax.containers[0], fontsize=10)\n"
   ]
  },
  {
   "cell_type": "code",
   "execution_count": 273,
   "id": "ff64fbdc",
   "metadata": {},
   "outputs": [
    {
     "data": {
      "text/plain": [
       "[Text(0, 0, '60'),\n",
       " Text(0, 0, '113'),\n",
       " Text(0, 0, '61'),\n",
       " Text(0, 0, '15'),\n",
       " Text(0, 0, '94'),\n",
       " Text(0, 0, '68'),\n",
       " Text(0, 0, '69')]"
      ]
     },
     "execution_count": 273,
     "metadata": {},
     "output_type": "execute_result"
    },
    {
     "data": {
      "image/png": "[encoded data removed]",
      "text/plain": [
       "<Figure size 1000x600 with 1 Axes>"
      ]
     },
     "metadata": {},
     "output_type": "display_data"
    }
   ],
   "source": [
    "# Посмотрим на продажи по дням! \n",
    "# Для визуализации снова используйте барплот, только теперь по оси x будут дни, по которым у нас есть данные (date). \n",
    "\n",
    "\n",
    "\n",
    "top_day = master_dataframe.groupby('date', as_index=False).sum('quantity').sort_values('date', ascending=True).head(10)\n",
    "\n",
    "# Задать размер графика\n",
    "plt.figure(figsize=(10,6))\n",
    "ax = sns.barplot(x=top_day['date'], y=top_day['quantity'])\n",
    "# Добавить подписи к барам\n",
    "ax.bar_label(ax.containers[0], fontsize=10)"
   ]
  },
  {
   "cell_type": "code",
   "execution_count": 305,
   "id": "73fcddd4",
   "metadata": {},
   "outputs": [
    {
     "name": "stdout",
     "output_type": "stream",
     "text": [
      "            name  product_id  purchase_count\n",
      "37  Anton_Ivanov          15               2\n",
      "92  Petr_Fedorov          94               2\n"
     ]
    }
   ],
   "source": [
    "# Сколько пользователей приобрели какой-либо товар повторно (более 1 раза)? \n",
    "# Повтором будем считать покупку товара с одинаковым product_id, совершенную в разные дни. \n",
    "\n",
    "# Например, пользователь Sasha Tsarev дважды приобрел товар 6. \n",
    "    # Поскольку покупка была совершена в один и тот же день, \n",
    "    # повторной в данном случае она считаться не будет. Katya Skriptsova также сделал две покупки товара 7, \n",
    "    # но в разные дни, поэтому этот случай засчитывается.\n",
    "    \n",
    "\n",
    "\n",
    "# Шаг 1: Отфильтровать DataFrame для повторных покупок\n",
    "unique_purchases = master_dataframe.drop_duplicates(subset=['name', 'product_id', 'date'])\n",
    "# Шаг 2: Группировка по имени и продукту, подсчет числа уникальных дней покупок\n",
    "purchase_counts = unique_purchases.groupby(['name', 'product_id']).size().reset_index(name='purchase_count')\n",
    "# Шаг 3: Отбор только тех, у кого более 1 дня покупок\n",
    "repeat_buyers = purchase_counts[purchase_counts['purchase_count'] > 1]\n",
    "\n",
    "# Вывод результатов\n",
    "    # repeat_buyers"
   ]
  },
  {
   "cell_type": "code",
   "execution_count": null,
   "id": "54a64fb9",
   "metadata": {},
   "outputs": [],
   "source": []
  }
 ],
 "metadata": {
  "kernelspec": {
   "display_name": "Python 3 (ipykernel)",
   "language": "python",
   "name": "python3"
  },
  "language_info": {
   "codemirror_mode": {
    "name": "ipython",
    "version": 3
   },
   "file_extension": ".py",
   "mimetype": "text/x-python",
   "name": "python",
   "nbconvert_exporter": "python",
   "pygments_lexer": "ipython3",
   "version": "3.11.5"
  }
 },
 "nbformat": 4,
 "nbformat_minor": 5
}
